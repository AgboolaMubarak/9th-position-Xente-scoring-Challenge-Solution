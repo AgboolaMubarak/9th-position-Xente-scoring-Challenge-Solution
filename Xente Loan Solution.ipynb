{
 "cells": [
  {
   "cell_type": "code",
   "execution_count": null,
   "metadata": {},
   "outputs": [],
   "source": [
    "Importing Libraries"
   ]
  },
  {
   "cell_type": "code",
   "execution_count": 1,
   "metadata": {},
   "outputs": [],
   "source": [
    "import numpy as np\n",
    "import pandas as pd\n",
    "import matplotlib.pyplot as plt\n",
    "import seaborn as sns"
   ]
  },
  {
   "cell_type": "code",
   "execution_count": 2,
   "metadata": {},
   "outputs": [],
   "source": [
    "train=pd.read_csv(\"Train (1).csv\")\n",
    "test=pd.read_csv(\"Test (1).csv\")"
   ]
  },
  {
   "cell_type": "code",
   "execution_count": 3,
   "metadata": {},
   "outputs": [],
   "source": [
    "sample=pd.read_csv(\"sample_submission.csv\")"
   ]
  },
  {
   "cell_type": "code",
   "execution_count": 4,
   "metadata": {},
   "outputs": [],
   "source": [
    "transaction=sample['TransactionId']"
   ]
  },
  {
   "cell_type": "code",
   "execution_count": 5,
   "metadata": {},
   "outputs": [
    {
     "name": "stdout",
     "output_type": "stream",
     "text": [
      "<class 'pandas.core.frame.DataFrame'>\n",
      "RangeIndex: 2100 entries, 0 to 2099\n",
      "Data columns (total 27 columns):\n",
      "CustomerId               2100 non-null object\n",
      "TransactionStartTime     2100 non-null object\n",
      "Value                    2100 non-null float64\n",
      "Amount                   2100 non-null float64\n",
      "TransactionId            2100 non-null object\n",
      "BatchId                  2100 non-null object\n",
      "SubscriptionId           2100 non-null object\n",
      "CurrencyCode             2100 non-null object\n",
      "CountryCode              2100 non-null int64\n",
      "ProviderId               2100 non-null object\n",
      "ProductId                2100 non-null object\n",
      "ProductCategory          2100 non-null object\n",
      "ChannelId                2100 non-null object\n",
      "TransactionStatus        2100 non-null int64\n",
      "IssuedDateLoan           1488 non-null object\n",
      "AmountLoan               1488 non-null float64\n",
      "Currency                 1488 non-null object\n",
      "LoanId                   1488 non-null object\n",
      "PaidOnDate               1488 non-null object\n",
      "IsFinalPayBack           1488 non-null float64\n",
      "InvestorId               1488 non-null object\n",
      "DueDate                  1486 non-null object\n",
      "LoanApplicationId        1483 non-null object\n",
      "PayBackId                1488 non-null object\n",
      "ThirdPartyId             1486 non-null object\n",
      "IsThirdPartyConfirmed    1488 non-null float64\n",
      "IsDefaulted              1488 non-null float64\n",
      "dtypes: float64(6), int64(2), object(19)\n",
      "memory usage: 443.1+ KB\n"
     ]
    }
   ],
   "source": [
    "train.info()"
   ]
  },
  {
   "cell_type": "code",
   "execution_count": 6,
   "metadata": {},
   "outputs": [
    {
     "data": {
      "text/plain": [
       "CustomerId                 0\n",
       "TransactionStartTime       0\n",
       "Value                      0\n",
       "Amount                     0\n",
       "TransactionId              0\n",
       "BatchId                    0\n",
       "SubscriptionId             0\n",
       "CurrencyCode               0\n",
       "CountryCode                0\n",
       "ProviderId                 0\n",
       "ProductId                  0\n",
       "ProductCategory            0\n",
       "ChannelId                  0\n",
       "TransactionStatus          0\n",
       "IssuedDateLoan           612\n",
       "AmountLoan               612\n",
       "Currency                 612\n",
       "LoanId                   612\n",
       "PaidOnDate               612\n",
       "IsFinalPayBack           612\n",
       "InvestorId               612\n",
       "DueDate                  614\n",
       "LoanApplicationId        617\n",
       "PayBackId                612\n",
       "ThirdPartyId             614\n",
       "IsThirdPartyConfirmed    612\n",
       "IsDefaulted              612\n",
       "dtype: int64"
      ]
     },
     "execution_count": 6,
     "metadata": {},
     "output_type": "execute_result"
    }
   ],
   "source": [
    "train.isnull().sum()"
   ]
  },
  {
   "cell_type": "code",
   "execution_count": 7,
   "metadata": {},
   "outputs": [
    {
     "data": {
      "text/plain": [
       "CustomerId                0\n",
       "TransactionStartTime      0\n",
       "Value                     0\n",
       "Amount                    0\n",
       "TransactionId             0\n",
       "BatchId                   0\n",
       "SubscriptionId            0\n",
       "CurrencyCode              0\n",
       "CountryCode               0\n",
       "ProviderId                0\n",
       "ProductId                 0\n",
       "ProductCategory           0\n",
       "ChannelId                 0\n",
       "TransactionStatus         0\n",
       "IssuedDateLoan          427\n",
       "LoanId                  427\n",
       "InvestorId              427\n",
       "LoanApplicationId       427\n",
       "ThirdPartyId            427\n",
       "dtype: int64"
      ]
     },
     "execution_count": 7,
     "metadata": {},
     "output_type": "execute_result"
    }
   ],
   "source": [
    "test.isnull().sum()"
   ]
  },
  {
   "cell_type": "code",
   "execution_count": 8,
   "metadata": {},
   "outputs": [
    {
     "data": {
      "text/plain": [
       "2135"
      ]
     },
     "execution_count": 8,
     "metadata": {},
     "output_type": "execute_result"
    }
   ],
   "source": [
    "427 * 5 "
   ]
  },
  {
   "cell_type": "code",
   "execution_count": 9,
   "metadata": {},
   "outputs": [
    {
     "name": "stdout",
     "output_type": "stream",
     "text": [
      "<class 'pandas.core.frame.DataFrame'>\n",
      "RangeIndex: 905 entries, 0 to 904\n",
      "Data columns (total 19 columns):\n",
      "CustomerId              905 non-null object\n",
      "TransactionStartTime    905 non-null object\n",
      "Value                   905 non-null float64\n",
      "Amount                  905 non-null float64\n",
      "TransactionId           905 non-null object\n",
      "BatchId                 905 non-null object\n",
      "SubscriptionId          905 non-null object\n",
      "CurrencyCode            905 non-null object\n",
      "CountryCode             905 non-null int64\n",
      "ProviderId              905 non-null object\n",
      "ProductId               905 non-null object\n",
      "ProductCategory         905 non-null object\n",
      "ChannelId               905 non-null object\n",
      "TransactionStatus       905 non-null int64\n",
      "IssuedDateLoan          478 non-null object\n",
      "LoanId                  478 non-null object\n",
      "InvestorId              478 non-null object\n",
      "LoanApplicationId       478 non-null object\n",
      "ThirdPartyId            478 non-null object\n",
      "dtypes: float64(2), int64(2), object(15)\n",
      "memory usage: 134.5+ KB\n"
     ]
    }
   ],
   "source": [
    "test.info()"
   ]
  },
  {
   "cell_type": "code",
   "execution_count": 10,
   "metadata": {},
   "outputs": [],
   "source": [
    "train.dropna(inplace=True)\n",
    "test.dropna(inplace=True)"
   ]
  },
  {
   "cell_type": "code",
   "execution_count": 11,
   "metadata": {},
   "outputs": [],
   "source": [
    "train.drop(['TransactionId', 'SubscriptionId', 'CurrencyCode','CountryCode',\n",
    "            'PayBackId','ThirdPartyId',\"InvestorId\"],axis=1,inplace=True)"
   ]
  },
  {
   "cell_type": "code",
   "execution_count": 12,
   "metadata": {},
   "outputs": [],
   "source": [
    "test.drop(['TransactionId','SubscriptionId', 'CurrencyCode','CountryCode',\n",
    "           'ThirdPartyId',\"InvestorId\"],axis=1,inplace=True)"
   ]
  },
  {
   "cell_type": "code",
   "execution_count": 13,
   "metadata": {},
   "outputs": [
    {
     "name": "stdout",
     "output_type": "stream",
     "text": [
      "<class 'pandas.core.frame.DataFrame'>\n",
      "Int64Index: 1479 entries, 15 to 2099\n",
      "Data columns (total 20 columns):\n",
      "CustomerId               1479 non-null object\n",
      "TransactionStartTime     1479 non-null object\n",
      "Value                    1479 non-null float64\n",
      "Amount                   1479 non-null float64\n",
      "BatchId                  1479 non-null object\n",
      "ProviderId               1479 non-null object\n",
      "ProductId                1479 non-null object\n",
      "ProductCategory          1479 non-null object\n",
      "ChannelId                1479 non-null object\n",
      "TransactionStatus        1479 non-null int64\n",
      "IssuedDateLoan           1479 non-null object\n",
      "AmountLoan               1479 non-null float64\n",
      "Currency                 1479 non-null object\n",
      "LoanId                   1479 non-null object\n",
      "PaidOnDate               1479 non-null object\n",
      "IsFinalPayBack           1479 non-null float64\n",
      "DueDate                  1479 non-null object\n",
      "LoanApplicationId        1479 non-null object\n",
      "IsThirdPartyConfirmed    1479 non-null float64\n",
      "IsDefaulted              1479 non-null float64\n",
      "dtypes: float64(6), int64(1), object(13)\n",
      "memory usage: 242.6+ KB\n"
     ]
    }
   ],
   "source": [
    "train.info()"
   ]
  },
  {
   "cell_type": "code",
   "execution_count": 14,
   "metadata": {},
   "outputs": [
    {
     "name": "stdout",
     "output_type": "stream",
     "text": [
      "<class 'pandas.core.frame.DataFrame'>\n",
      "Int64Index: 478 entries, 0 to 898\n",
      "Data columns (total 13 columns):\n",
      "CustomerId              478 non-null object\n",
      "TransactionStartTime    478 non-null object\n",
      "Value                   478 non-null float64\n",
      "Amount                  478 non-null float64\n",
      "BatchId                 478 non-null object\n",
      "ProviderId              478 non-null object\n",
      "ProductId               478 non-null object\n",
      "ProductCategory         478 non-null object\n",
      "ChannelId               478 non-null object\n",
      "TransactionStatus       478 non-null int64\n",
      "IssuedDateLoan          478 non-null object\n",
      "LoanId                  478 non-null object\n",
      "LoanApplicationId       478 non-null object\n",
      "dtypes: float64(2), int64(1), object(10)\n",
      "memory usage: 52.3+ KB\n"
     ]
    }
   ],
   "source": [
    "test.info()"
   ]
  },
  {
   "cell_type": "code",
   "execution_count": 15,
   "metadata": {},
   "outputs": [],
   "source": [
    "train.drop([\"Currency\",\"ChannelId\",\"ProviderId\"],axis=1,inplace=True)\n",
    "test.drop([\"ChannelId\",\"ProviderId\"],axis=1,inplace=True)"
   ]
  },
  {
   "cell_type": "code",
   "execution_count": 16,
   "metadata": {},
   "outputs": [],
   "source": [
    "def seperatetime(x):\n",
    "    ans=x.split(\" \")\n",
    "    return ans[1]"
   ]
  },
  {
   "cell_type": "code",
   "execution_count": 17,
   "metadata": {},
   "outputs": [],
   "source": [
    "train[\"TransactionTime\"]=train[\"TransactionStartTime\"].apply(seperatetime)"
   ]
  },
  {
   "cell_type": "code",
   "execution_count": 18,
   "metadata": {},
   "outputs": [],
   "source": [
    "test[\"TransactionTime\"]=test[\"TransactionStartTime\"].apply(seperatetime)"
   ]
  },
  {
   "cell_type": "code",
   "execution_count": 19,
   "metadata": {},
   "outputs": [],
   "source": [
    "train[\"PaymentTime\"]=train[\"PaidOnDate\"].apply(seperatetime)"
   ]
  },
  {
   "cell_type": "code",
   "execution_count": 20,
   "metadata": {},
   "outputs": [],
   "source": [
    "train[\"loantimegiven\"]=train[\"IssuedDateLoan\"].apply(seperatetime)"
   ]
  },
  {
   "cell_type": "code",
   "execution_count": 21,
   "metadata": {},
   "outputs": [],
   "source": [
    "test[\"loantimegiven\"]=test[\"IssuedDateLoan\"].apply(seperatetime)"
   ]
  },
  {
   "cell_type": "code",
   "execution_count": 22,
   "metadata": {},
   "outputs": [],
   "source": [
    "def seperatedate(x):\n",
    "    ans=x.split(\" \")\n",
    "    return ans[0]"
   ]
  },
  {
   "cell_type": "code",
   "execution_count": 23,
   "metadata": {},
   "outputs": [],
   "source": [
    "train[\"TransactionDate\"]=train[\"TransactionStartTime\"].apply(seperatedate)"
   ]
  },
  {
   "cell_type": "code",
   "execution_count": 24,
   "metadata": {},
   "outputs": [],
   "source": [
    "test[\"TransactionDate\"]=test[\"TransactionStartTime\"].apply(seperatedate)"
   ]
  },
  {
   "cell_type": "code",
   "execution_count": 25,
   "metadata": {},
   "outputs": [],
   "source": [
    "train[\"PaymentDate\"]=train[\"PaidOnDate\"].apply(seperatedate)"
   ]
  },
  {
   "cell_type": "code",
   "execution_count": 26,
   "metadata": {},
   "outputs": [],
   "source": [
    "train[\"loandategiven\"]=train[\"IssuedDateLoan\"].apply(seperatedate)"
   ]
  },
  {
   "cell_type": "code",
   "execution_count": 27,
   "metadata": {},
   "outputs": [],
   "source": [
    "test[\"loandategiven\"]=test[\"IssuedDateLoan\"].apply(seperatedate)"
   ]
  },
  {
   "cell_type": "code",
   "execution_count": 28,
   "metadata": {},
   "outputs": [],
   "source": [
    "train[\"DueDate\"]=train[\"DueDate\"].apply(seperatedate)"
   ]
  },
  {
   "cell_type": "code",
   "execution_count": 29,
   "metadata": {},
   "outputs": [],
   "source": [
    "train.drop([\"PaidOnDate\",\"IssuedDateLoan\"],axis=1,inplace=True)"
   ]
  },
  {
   "cell_type": "code",
   "execution_count": 30,
   "metadata": {},
   "outputs": [],
   "source": [
    "test.drop([\"IssuedDateLoan\"],axis=1,inplace=True)"
   ]
  },
  {
   "cell_type": "code",
   "execution_count": 31,
   "metadata": {},
   "outputs": [],
   "source": [
    "train[\"TransactionTime\"] = train[\"TransactionTime\"].str.split(':').apply(lambda x: int(x[0]) * 60 + int(x[1]))"
   ]
  },
  {
   "cell_type": "code",
   "execution_count": 32,
   "metadata": {},
   "outputs": [],
   "source": [
    "test[\"TransactionTime\"] = test[\"TransactionTime\"].str.split(':').apply(lambda x: int(x[0]) * 60 + int(x[1]))"
   ]
  },
  {
   "cell_type": "code",
   "execution_count": 33,
   "metadata": {},
   "outputs": [],
   "source": [
    "train[\"PaymentTime\"] = train[\"PaymentTime\"].str.split(':').apply(lambda x: int(x[0]) * 60 + int(x[1]))"
   ]
  },
  {
   "cell_type": "code",
   "execution_count": 34,
   "metadata": {},
   "outputs": [],
   "source": [
    "train[\"loantimegiven\"] = train[\"loantimegiven\"].str.split(':').apply(lambda x: int(x[0]) * 60 + int(x[1]))"
   ]
  },
  {
   "cell_type": "code",
   "execution_count": 35,
   "metadata": {},
   "outputs": [],
   "source": [
    "test[\"loantimegiven\"] = test[\"loantimegiven\"].str.split(':').apply(lambda x: int(x[0]) * 60 + int(x[1]))"
   ]
  },
  {
   "cell_type": "code",
   "execution_count": 36,
   "metadata": {},
   "outputs": [],
   "source": [
    "train['TransactionDate']=pd.to_datetime(train['TransactionDate'],infer_datetime_format=True)"
   ]
  },
  {
   "cell_type": "code",
   "execution_count": 37,
   "metadata": {},
   "outputs": [],
   "source": [
    "train['DueDate']=pd.to_datetime(train['DueDate'],infer_datetime_format=True)"
   ]
  },
  {
   "cell_type": "code",
   "execution_count": 38,
   "metadata": {},
   "outputs": [],
   "source": [
    "train['DueDate']=train['DueDate'].dt.month"
   ]
  },
  {
   "cell_type": "code",
   "execution_count": 39,
   "metadata": {},
   "outputs": [],
   "source": [
    "test['TransactionDate']=pd.to_datetime(test['TransactionDate'],infer_datetime_format=True)"
   ]
  },
  {
   "cell_type": "code",
   "execution_count": 40,
   "metadata": {},
   "outputs": [],
   "source": [
    "train[\"loandategiven\"]=pd.to_datetime(train[\"loandategiven\"],infer_datetime_format=True)"
   ]
  },
  {
   "cell_type": "code",
   "execution_count": 41,
   "metadata": {},
   "outputs": [],
   "source": [
    "test[\"loandategiven\"]=pd.to_datetime(test[\"loandategiven\"],infer_datetime_format=True)"
   ]
  },
  {
   "cell_type": "code",
   "execution_count": 42,
   "metadata": {},
   "outputs": [],
   "source": [
    "train['TransactionMonth']=train['TransactionDate'].dt.month\n",
    "test['TransactionMonth']=test['TransactionDate'].dt.month"
   ]
  },
  {
   "cell_type": "code",
   "execution_count": 43,
   "metadata": {},
   "outputs": [],
   "source": [
    "train[\"PaymentDate\"]=pd.to_datetime(train[\"PaymentDate\"],infer_datetime_format=True)\n",
    "train[\"PaymentMonth\"]=train[\"PaymentDate\"].dt.month"
   ]
  },
  {
   "cell_type": "code",
   "execution_count": 44,
   "metadata": {},
   "outputs": [],
   "source": [
    "train[\"loanmonthgiven\"]=train[\"loandategiven\"].dt.month\n",
    "test[\"loanmonthgiven\"]=test[\"loandategiven\"].dt.month"
   ]
  },
  {
   "cell_type": "code",
   "execution_count": 45,
   "metadata": {},
   "outputs": [
    {
     "data": {
      "text/html": [
       "<div>\n",
       "<style scoped>\n",
       "    .dataframe tbody tr th:only-of-type {\n",
       "        vertical-align: middle;\n",
       "    }\n",
       "\n",
       "    .dataframe tbody tr th {\n",
       "        vertical-align: top;\n",
       "    }\n",
       "\n",
       "    .dataframe thead th {\n",
       "        text-align: right;\n",
       "    }\n",
       "</style>\n",
       "<table border=\"1\" class=\"dataframe\">\n",
       "  <thead>\n",
       "    <tr style=\"text-align: right;\">\n",
       "      <th></th>\n",
       "      <th>CustomerId</th>\n",
       "      <th>TransactionStartTime</th>\n",
       "      <th>Value</th>\n",
       "      <th>Amount</th>\n",
       "      <th>BatchId</th>\n",
       "      <th>ProductId</th>\n",
       "      <th>ProductCategory</th>\n",
       "      <th>TransactionStatus</th>\n",
       "      <th>AmountLoan</th>\n",
       "      <th>LoanId</th>\n",
       "      <th>...</th>\n",
       "      <th>IsDefaulted</th>\n",
       "      <th>TransactionTime</th>\n",
       "      <th>PaymentTime</th>\n",
       "      <th>loantimegiven</th>\n",
       "      <th>TransactionDate</th>\n",
       "      <th>PaymentDate</th>\n",
       "      <th>loandategiven</th>\n",
       "      <th>TransactionMonth</th>\n",
       "      <th>PaymentMonth</th>\n",
       "      <th>loanmonthgiven</th>\n",
       "    </tr>\n",
       "  </thead>\n",
       "  <tbody>\n",
       "    <tr>\n",
       "      <td>15</td>\n",
       "      <td>CustomerId_233</td>\n",
       "      <td>2018-10-22 16:04:25</td>\n",
       "      <td>5000.0</td>\n",
       "      <td>-5000.0</td>\n",
       "      <td>BatchId_775</td>\n",
       "      <td>ProductId_7</td>\n",
       "      <td>airtime</td>\n",
       "      <td>1</td>\n",
       "      <td>5375.0</td>\n",
       "      <td>LoanId_317</td>\n",
       "      <td>...</td>\n",
       "      <td>0.0</td>\n",
       "      <td>964</td>\n",
       "      <td>409</td>\n",
       "      <td>964</td>\n",
       "      <td>2018-10-22</td>\n",
       "      <td>2018-10-30</td>\n",
       "      <td>2018-10-22</td>\n",
       "      <td>10</td>\n",
       "      <td>10</td>\n",
       "      <td>10</td>\n",
       "    </tr>\n",
       "    <tr>\n",
       "      <td>17</td>\n",
       "      <td>CustomerId_305</td>\n",
       "      <td>2018-10-23 13:12:23</td>\n",
       "      <td>500.0</td>\n",
       "      <td>-500.0</td>\n",
       "      <td>BatchId_2016</td>\n",
       "      <td>ProductId_7</td>\n",
       "      <td>airtime</td>\n",
       "      <td>1</td>\n",
       "      <td>543.0</td>\n",
       "      <td>LoanId_1619</td>\n",
       "      <td>...</td>\n",
       "      <td>0.0</td>\n",
       "      <td>792</td>\n",
       "      <td>798</td>\n",
       "      <td>792</td>\n",
       "      <td>2018-10-23</td>\n",
       "      <td>2018-10-23</td>\n",
       "      <td>2018-10-23</td>\n",
       "      <td>10</td>\n",
       "      <td>10</td>\n",
       "      <td>10</td>\n",
       "    </tr>\n",
       "    <tr>\n",
       "      <td>18</td>\n",
       "      <td>CustomerId_27</td>\n",
       "      <td>2018-10-23 15:20:58</td>\n",
       "      <td>1000.0</td>\n",
       "      <td>-1000.0</td>\n",
       "      <td>BatchId_1675</td>\n",
       "      <td>ProductId_7</td>\n",
       "      <td>airtime</td>\n",
       "      <td>1</td>\n",
       "      <td>1085.0</td>\n",
       "      <td>LoanId_1438</td>\n",
       "      <td>...</td>\n",
       "      <td>0.0</td>\n",
       "      <td>920</td>\n",
       "      <td>926</td>\n",
       "      <td>920</td>\n",
       "      <td>2018-10-23</td>\n",
       "      <td>2018-10-23</td>\n",
       "      <td>2018-10-23</td>\n",
       "      <td>10</td>\n",
       "      <td>10</td>\n",
       "      <td>10</td>\n",
       "    </tr>\n",
       "  </tbody>\n",
       "</table>\n",
       "<p>3 rows × 24 columns</p>\n",
       "</div>"
      ],
      "text/plain": [
       "        CustomerId TransactionStartTime   Value  Amount       BatchId  \\\n",
       "15  CustomerId_233  2018-10-22 16:04:25  5000.0 -5000.0   BatchId_775   \n",
       "17  CustomerId_305  2018-10-23 13:12:23   500.0  -500.0  BatchId_2016   \n",
       "18   CustomerId_27  2018-10-23 15:20:58  1000.0 -1000.0  BatchId_1675   \n",
       "\n",
       "      ProductId ProductCategory  TransactionStatus  AmountLoan       LoanId  \\\n",
       "15  ProductId_7         airtime                  1      5375.0   LoanId_317   \n",
       "17  ProductId_7         airtime                  1       543.0  LoanId_1619   \n",
       "18  ProductId_7         airtime                  1      1085.0  LoanId_1438   \n",
       "\n",
       "    ...  IsDefaulted  TransactionTime PaymentTime  loantimegiven  \\\n",
       "15  ...          0.0              964         409            964   \n",
       "17  ...          0.0              792         798            792   \n",
       "18  ...          0.0              920         926            920   \n",
       "\n",
       "    TransactionDate  PaymentDate  loandategiven  TransactionMonth  \\\n",
       "15       2018-10-22   2018-10-30     2018-10-22                10   \n",
       "17       2018-10-23   2018-10-23     2018-10-23                10   \n",
       "18       2018-10-23   2018-10-23     2018-10-23                10   \n",
       "\n",
       "   PaymentMonth loanmonthgiven  \n",
       "15           10             10  \n",
       "17           10             10  \n",
       "18           10             10  \n",
       "\n",
       "[3 rows x 24 columns]"
      ]
     },
     "execution_count": 45,
     "metadata": {},
     "output_type": "execute_result"
    }
   ],
   "source": [
    "train.head(3)"
   ]
  },
  {
   "cell_type": "code",
   "execution_count": 46,
   "metadata": {},
   "outputs": [],
   "source": [
    "train[\"LD\"]=train[\"AmountLoan\"] - train[\"Value\"]"
   ]
  },
  {
   "cell_type": "code",
   "execution_count": 47,
   "metadata": {},
   "outputs": [
    {
     "data": {
      "text/plain": [
       "ProductCategory\n",
       "airtime                 -750.483696\n",
       "data_bundles             512.604520\n",
       "financial_services        54.666667\n",
       "movies                  3016.600000\n",
       "retail               -252608.085106\n",
       "tv                      -658.886792\n",
       "utility_bill             759.918605\n",
       "Name: LD, dtype: float64"
      ]
     },
     "execution_count": 47,
     "metadata": {},
     "output_type": "execute_result"
    }
   ],
   "source": [
    "train.groupby(\"ProductCategory\")[\"LD\"].mean()"
   ]
  },
  {
   "cell_type": "code",
   "execution_count": 48,
   "metadata": {},
   "outputs": [],
   "source": [
    "def CreateLoanAmount(col):\n",
    "    ProductCategory=col\n",
    "\n",
    "    \n",
    "    if ProductCategory==\"airtime\" :\n",
    "        return -751\n",
    "    elif ProductCategory==\"data_bundles\":\n",
    "        return 513\n",
    "    elif ProductCategory==\"financial_services\":\n",
    "        return 55\n",
    "    elif ProductCategory==\"movies\":\n",
    "        return 3017\n",
    "    elif ProductCategory==\"retail\":\n",
    "        return -252608\n",
    "    elif ProductCategory==\"tv\":\n",
    "        return -659\n",
    "    else:\n",
    "        return 760"
   ]
  },
  {
   "cell_type": "code",
   "execution_count": 49,
   "metadata": {},
   "outputs": [],
   "source": [
    "test[\"AmountLoan\"]=test[\"ProductCategory\"].apply(CreateLoanAmount)"
   ]
  },
  {
   "cell_type": "code",
   "execution_count": 50,
   "metadata": {},
   "outputs": [],
   "source": [
    "test[\"AmountLoan\"]=test[\"AmountLoan\"] + test[\"Value\"]"
   ]
  },
  {
   "cell_type": "code",
   "execution_count": 52,
   "metadata": {},
   "outputs": [],
   "source": [
    "def CreateDueDate(col):\n",
    "    loanmonthgiven=col\n",
    "    \n",
    "    if loanmonthgiven==12:\n",
    "        return 1\n",
    "    else:\n",
    "        return loanmonthgiven + 1"
   ]
  },
  {
   "cell_type": "code",
   "execution_count": 53,
   "metadata": {},
   "outputs": [],
   "source": [
    "test[\"DueDate\"]=test[\"loanmonthgiven\"].apply(CreateDueDate)"
   ]
  },
  {
   "cell_type": "code",
   "execution_count": 54,
   "metadata": {},
   "outputs": [
    {
     "data": {
      "text/html": [
       "<div>\n",
       "<style scoped>\n",
       "    .dataframe tbody tr th:only-of-type {\n",
       "        vertical-align: middle;\n",
       "    }\n",
       "\n",
       "    .dataframe tbody tr th {\n",
       "        vertical-align: top;\n",
       "    }\n",
       "\n",
       "    .dataframe thead th {\n",
       "        text-align: right;\n",
       "    }\n",
       "</style>\n",
       "<table border=\"1\" class=\"dataframe\">\n",
       "  <thead>\n",
       "    <tr style=\"text-align: right;\">\n",
       "      <th></th>\n",
       "      <th>CustomerId</th>\n",
       "      <th>TransactionStartTime</th>\n",
       "      <th>Value</th>\n",
       "      <th>Amount</th>\n",
       "      <th>BatchId</th>\n",
       "      <th>ProductId</th>\n",
       "      <th>ProductCategory</th>\n",
       "      <th>TransactionStatus</th>\n",
       "      <th>LoanId</th>\n",
       "      <th>LoanApplicationId</th>\n",
       "      <th>TransactionTime</th>\n",
       "      <th>loantimegiven</th>\n",
       "      <th>TransactionDate</th>\n",
       "      <th>loandategiven</th>\n",
       "      <th>TransactionMonth</th>\n",
       "      <th>loanmonthgiven</th>\n",
       "      <th>AmountLoan</th>\n",
       "      <th>DueDate</th>\n",
       "    </tr>\n",
       "  </thead>\n",
       "  <tbody>\n",
       "    <tr>\n",
       "      <td>0</td>\n",
       "      <td>CustomerId_310</td>\n",
       "      <td>2019-03-31 13:33:05</td>\n",
       "      <td>14000.0</td>\n",
       "      <td>-14000.0</td>\n",
       "      <td>BatchId_1144</td>\n",
       "      <td>ProductId_7</td>\n",
       "      <td>airtime</td>\n",
       "      <td>1</td>\n",
       "      <td>LoanId_1027</td>\n",
       "      <td>LoanApplicationId_825</td>\n",
       "      <td>813</td>\n",
       "      <td>813</td>\n",
       "      <td>2019-03-31</td>\n",
       "      <td>2019-03-31</td>\n",
       "      <td>3</td>\n",
       "      <td>3</td>\n",
       "      <td>13249.0</td>\n",
       "      <td>4</td>\n",
       "    </tr>\n",
       "    <tr>\n",
       "      <td>1</td>\n",
       "      <td>CustomerId_243</td>\n",
       "      <td>2019-03-31 15:04:09</td>\n",
       "      <td>1000.0</td>\n",
       "      <td>-1000.0</td>\n",
       "      <td>BatchId_1214</td>\n",
       "      <td>ProductId_8</td>\n",
       "      <td>data_bundles</td>\n",
       "      <td>1</td>\n",
       "      <td>LoanId_768</td>\n",
       "      <td>LoanApplicationId_68</td>\n",
       "      <td>904</td>\n",
       "      <td>904</td>\n",
       "      <td>2019-03-31</td>\n",
       "      <td>2019-03-31</td>\n",
       "      <td>3</td>\n",
       "      <td>3</td>\n",
       "      <td>1513.0</td>\n",
       "      <td>4</td>\n",
       "    </tr>\n",
       "    <tr>\n",
       "      <td>2</td>\n",
       "      <td>CustomerId_142</td>\n",
       "      <td>2019-03-31 17:31:11</td>\n",
       "      <td>2500.0</td>\n",
       "      <td>-2500.0</td>\n",
       "      <td>BatchId_2150</td>\n",
       "      <td>ProductId_7</td>\n",
       "      <td>airtime</td>\n",
       "      <td>1</td>\n",
       "      <td>LoanId_1067</td>\n",
       "      <td>LoanApplicationId_1223</td>\n",
       "      <td>1051</td>\n",
       "      <td>1051</td>\n",
       "      <td>2019-03-31</td>\n",
       "      <td>2019-03-31</td>\n",
       "      <td>3</td>\n",
       "      <td>3</td>\n",
       "      <td>1749.0</td>\n",
       "      <td>4</td>\n",
       "    </tr>\n",
       "    <tr>\n",
       "      <td>3</td>\n",
       "      <td>CustomerId_142</td>\n",
       "      <td>2019-03-31 17:32:15</td>\n",
       "      <td>500.0</td>\n",
       "      <td>-500.0</td>\n",
       "      <td>BatchId_1071</td>\n",
       "      <td>ProductId_7</td>\n",
       "      <td>airtime</td>\n",
       "      <td>1</td>\n",
       "      <td>LoanId_202</td>\n",
       "      <td>LoanApplicationId_633</td>\n",
       "      <td>1052</td>\n",
       "      <td>1052</td>\n",
       "      <td>2019-03-31</td>\n",
       "      <td>2019-03-31</td>\n",
       "      <td>3</td>\n",
       "      <td>3</td>\n",
       "      <td>-251.0</td>\n",
       "      <td>4</td>\n",
       "    </tr>\n",
       "    <tr>\n",
       "      <td>4</td>\n",
       "      <td>CustomerId_142</td>\n",
       "      <td>2019-03-31 17:34:41</td>\n",
       "      <td>1000.0</td>\n",
       "      <td>-1000.0</td>\n",
       "      <td>BatchId_2477</td>\n",
       "      <td>ProductId_7</td>\n",
       "      <td>airtime</td>\n",
       "      <td>1</td>\n",
       "      <td>LoanId_533</td>\n",
       "      <td>LoanApplicationId_309</td>\n",
       "      <td>1054</td>\n",
       "      <td>1054</td>\n",
       "      <td>2019-03-31</td>\n",
       "      <td>2019-03-31</td>\n",
       "      <td>3</td>\n",
       "      <td>3</td>\n",
       "      <td>249.0</td>\n",
       "      <td>4</td>\n",
       "    </tr>\n",
       "  </tbody>\n",
       "</table>\n",
       "</div>"
      ],
      "text/plain": [
       "       CustomerId TransactionStartTime    Value   Amount       BatchId  \\\n",
       "0  CustomerId_310  2019-03-31 13:33:05  14000.0 -14000.0  BatchId_1144   \n",
       "1  CustomerId_243  2019-03-31 15:04:09   1000.0  -1000.0  BatchId_1214   \n",
       "2  CustomerId_142  2019-03-31 17:31:11   2500.0  -2500.0  BatchId_2150   \n",
       "3  CustomerId_142  2019-03-31 17:32:15    500.0   -500.0  BatchId_1071   \n",
       "4  CustomerId_142  2019-03-31 17:34:41   1000.0  -1000.0  BatchId_2477   \n",
       "\n",
       "     ProductId ProductCategory  TransactionStatus       LoanId  \\\n",
       "0  ProductId_7         airtime                  1  LoanId_1027   \n",
       "1  ProductId_8    data_bundles                  1   LoanId_768   \n",
       "2  ProductId_7         airtime                  1  LoanId_1067   \n",
       "3  ProductId_7         airtime                  1   LoanId_202   \n",
       "4  ProductId_7         airtime                  1   LoanId_533   \n",
       "\n",
       "        LoanApplicationId  TransactionTime  loantimegiven TransactionDate  \\\n",
       "0   LoanApplicationId_825              813            813      2019-03-31   \n",
       "1    LoanApplicationId_68              904            904      2019-03-31   \n",
       "2  LoanApplicationId_1223             1051           1051      2019-03-31   \n",
       "3   LoanApplicationId_633             1052           1052      2019-03-31   \n",
       "4   LoanApplicationId_309             1054           1054      2019-03-31   \n",
       "\n",
       "  loandategiven  TransactionMonth  loanmonthgiven  AmountLoan  DueDate  \n",
       "0    2019-03-31                 3               3     13249.0        4  \n",
       "1    2019-03-31                 3               3      1513.0        4  \n",
       "2    2019-03-31                 3               3      1749.0        4  \n",
       "3    2019-03-31                 3               3      -251.0        4  \n",
       "4    2019-03-31                 3               3       249.0        4  "
      ]
     },
     "execution_count": 54,
     "metadata": {},
     "output_type": "execute_result"
    }
   ],
   "source": [
    "test.head()"
   ]
  },
  {
   "cell_type": "code",
   "execution_count": 55,
   "metadata": {},
   "outputs": [],
   "source": [
    "train.drop([\"LD\",\"loantimegiven\",\"TransactionDate\",\"loandategiven\",\"Amount\"],axis=1,inplace=True)"
   ]
  },
  {
   "cell_type": "code",
   "execution_count": 56,
   "metadata": {},
   "outputs": [],
   "source": [
    "test.drop([\"loantimegiven\",\"TransactionDate\",\"loandategiven\",\"Amount\"],axis=1,inplace=True)"
   ]
  },
  {
   "cell_type": "code",
   "execution_count": 57,
   "metadata": {},
   "outputs": [],
   "source": [
    "train['DueDate']=pd.to_datetime(train['DueDate'],infer_datetime_format=True)"
   ]
  },
  {
   "cell_type": "code",
   "execution_count": 58,
   "metadata": {},
   "outputs": [],
   "source": [
    "train[\"DueDate\"]=train[\"DueDate\"].dt.month"
   ]
  },
  {
   "cell_type": "code",
   "execution_count": 59,
   "metadata": {},
   "outputs": [
    {
     "data": {
      "text/plain": [
       "0.0    1303\n",
       "1.0     176\n",
       "Name: IsDefaulted, dtype: int64"
      ]
     },
     "execution_count": 59,
     "metadata": {},
     "output_type": "execute_result"
    }
   ],
   "source": [
    "train[\"IsDefaulted\"].value_counts()"
   ]
  },
  {
   "cell_type": "code",
   "execution_count": 60,
   "metadata": {},
   "outputs": [
    {
     "data": {
      "text/plain": [
       "retail    151\n",
       "Name: ProductCategory, dtype: int64"
      ]
     },
     "execution_count": 60,
     "metadata": {},
     "output_type": "execute_result"
    }
   ],
   "source": [
    "train[(train[\"IsDefaulted\"]==1) & (train[\"Value\"]>100000)][\"ProductCategory\"].value_counts()"
   ]
  },
  {
   "cell_type": "code",
   "execution_count": 66,
   "metadata": {},
   "outputs": [
    {
     "data": {
      "text/plain": [
       "1.0    151\n",
       "0.0    102\n",
       "Name: IsDefaulted, dtype: int64"
      ]
     },
     "execution_count": 66,
     "metadata": {},
     "output_type": "execute_result"
    }
   ],
   "source": [
    "train[train[\"Value\"]>50000][\"IsDefaulted\"].value_counts()"
   ]
  },
  {
   "cell_type": "code",
   "execution_count": 62,
   "metadata": {},
   "outputs": [],
   "source": [
    "train.drop(\"TransactionStartTime\",axis=1,inplace=True)\n",
    "test.drop(\"TransactionStartTime\",axis=1,inplace=True)"
   ]
  },
  {
   "cell_type": "code",
   "execution_count": 63,
   "metadata": {},
   "outputs": [
    {
     "data": {
      "text/plain": [
       "Index(['CustomerId', 'Value', 'BatchId', 'ProductId', 'ProductCategory',\n",
       "       'TransactionStatus', 'AmountLoan', 'LoanId', 'IsFinalPayBack',\n",
       "       'DueDate', 'LoanApplicationId', 'IsThirdPartyConfirmed', 'IsDefaulted',\n",
       "       'TransactionTime', 'PaymentTime', 'PaymentDate', 'TransactionMonth',\n",
       "       'PaymentMonth', 'loanmonthgiven'],\n",
       "      dtype='object')"
      ]
     },
     "execution_count": 63,
     "metadata": {},
     "output_type": "execute_result"
    }
   ],
   "source": [
    "train.columns"
   ]
  },
  {
   "cell_type": "code",
   "execution_count": 64,
   "metadata": {},
   "outputs": [
    {
     "data": {
      "text/plain": [
       "Index(['CustomerId', 'Value', 'BatchId', 'ProductId', 'ProductCategory',\n",
       "       'TransactionStatus', 'LoanId', 'LoanApplicationId', 'TransactionTime',\n",
       "       'TransactionMonth', 'loanmonthgiven', 'AmountLoan', 'DueDate'],\n",
       "      dtype='object')"
      ]
     },
     "execution_count": 64,
     "metadata": {},
     "output_type": "execute_result"
    }
   ],
   "source": [
    "test.columns"
   ]
  },
  {
   "cell_type": "code",
   "execution_count": 334,
   "metadata": {},
   "outputs": [],
   "source": [
    "train.drop(['PaymentTime', 'PaymentDate'],axis=1,inplace=True)"
   ]
  },
  {
   "cell_type": "code",
   "execution_count": 335,
   "metadata": {},
   "outputs": [],
   "source": [
    "train.drop(['IsThirdPartyConfirmed','IsFinalPayBack'],axis=1,inplace=True)"
   ]
  },
  {
   "cell_type": "code",
   "execution_count": 336,
   "metadata": {},
   "outputs": [],
   "source": [
    "def Suspicious(x):\n",
    "    if x>50000:\n",
    "        return 1\n",
    "    else:\n",
    "        return 0"
   ]
  },
  {
   "cell_type": "code",
   "execution_count": 337,
   "metadata": {},
   "outputs": [],
   "source": [
    "train[\"Suspicious\"]=train[\"Value\"].apply(Suspicious)"
   ]
  },
  {
   "cell_type": "code",
   "execution_count": 338,
   "metadata": {},
   "outputs": [],
   "source": [
    "test[\"Suspicious\"]=test[\"Value\"].apply(Suspicious)"
   ]
  },
  {
   "cell_type": "code",
   "execution_count": 339,
   "metadata": {},
   "outputs": [],
   "source": [
    "def MoreSus(x):\n",
    "    if x==\"retail\":\n",
    "        return 1\n",
    "    else:\n",
    "        return 0"
   ]
  },
  {
   "cell_type": "code",
   "execution_count": 340,
   "metadata": {},
   "outputs": [],
   "source": [
    "train[\"MoreSus\"]=train[\"ProductCategory\"].apply(MoreSus)"
   ]
  },
  {
   "cell_type": "code",
   "execution_count": 341,
   "metadata": {},
   "outputs": [],
   "source": [
    "test[\"MoreSus\"]=test[\"ProductCategory\"].apply(MoreSus)"
   ]
  },
  {
   "cell_type": "code",
   "execution_count": 342,
   "metadata": {},
   "outputs": [],
   "source": [
    "train[\"MoreSus\"]=train[\"MoreSus\"] + train [\"Suspicious\"] + train[\"TransactionStatus\"]"
   ]
  },
  {
   "cell_type": "code",
   "execution_count": 343,
   "metadata": {},
   "outputs": [],
   "source": [
    "test[\"MoreSus\"]=test[\"MoreSus\"] + test [\"Suspicious\"] + test[\"TransactionStatus\"]"
   ]
  },
  {
   "cell_type": "code",
   "execution_count": 344,
   "metadata": {},
   "outputs": [],
   "source": [
    "train.drop(\"TransactionStatus\",axis=1,inplace=True)\n",
    "test.drop(\"TransactionStatus\",axis=1,inplace=True)"
   ]
  },
  {
   "cell_type": "code",
   "execution_count": 345,
   "metadata": {},
   "outputs": [],
   "source": [
    "train[\"ProductId\"]=train[\"ProductId\"].map(train[\"ProductId\"].value_counts().to_dict())\n",
    "test[\"ProductId\"]=test[\"ProductId\"].map(test[\"ProductId\"].value_counts().to_dict())"
   ]
  },
  {
   "cell_type": "code",
   "execution_count": 346,
   "metadata": {},
   "outputs": [],
   "source": [
    "train = pd.get_dummies(train, columns = [\"ProductCategory\"])\n",
    "test = pd.get_dummies(test, columns = [\"ProductCategory\"])"
   ]
  },
  {
   "cell_type": "code",
   "execution_count": 347,
   "metadata": {},
   "outputs": [],
   "source": [
    "train['CustomerId'] =train['CustomerId'].map(train['CustomerId'].value_counts())\n",
    "test['CustomerId'] =test['CustomerId'].map(test['CustomerId'].value_counts())\n",
    "test['BatchId'] = test['BatchId'].map(test['BatchId'].value_counts())\n",
    "train['BatchId'] = train['BatchId'].map(train['BatchId'].value_counts())"
   ]
  },
  {
   "cell_type": "code",
   "execution_count": 348,
   "metadata": {},
   "outputs": [],
   "source": [
    "test['LoanId'] = test['LoanId'].map(test['LoanId'].value_counts())\n",
    "train['LoanId'] = train['LoanId'].map(train['LoanId'].value_counts())"
   ]
  },
  {
   "cell_type": "code",
   "execution_count": 349,
   "metadata": {},
   "outputs": [],
   "source": [
    "test['LoanApplicationId'] = test['LoanApplicationId'].map(test['LoanApplicationId'].value_counts())\n",
    "train['LoanApplicationId'] = train['LoanApplicationId'].map(train['LoanApplicationId'].value_counts())"
   ]
  },
  {
   "cell_type": "code",
   "execution_count": 350,
   "metadata": {},
   "outputs": [
    {
     "data": {
      "text/plain": [
       "Index(['CustomerId', 'Value', 'BatchId', 'ProductId', 'AmountLoan', 'LoanId',\n",
       "       'DueDate', 'LoanApplicationId', 'IsDefaulted', 'TransactionTime',\n",
       "       'TransactionMonth', 'PaymentMonth', 'loanmonthgiven', 'Suspicious',\n",
       "       'MoreSus', 'ProductCategory_airtime', 'ProductCategory_data_bundles',\n",
       "       'ProductCategory_financial_services', 'ProductCategory_movies',\n",
       "       'ProductCategory_retail', 'ProductCategory_tv',\n",
       "       'ProductCategory_utility_bill'],\n",
       "      dtype='object')"
      ]
     },
     "execution_count": 350,
     "metadata": {},
     "output_type": "execute_result"
    }
   ],
   "source": [
    "train.columns"
   ]
  },
  {
   "cell_type": "code",
   "execution_count": 351,
   "metadata": {},
   "outputs": [],
   "source": [
    "train.drop('ProductCategory_movies',axis=1,inplace=True)\n",
    "test.drop( 'ProductCategory_ticket',axis=1,inplace=True)"
   ]
  },
  {
   "cell_type": "code",
   "execution_count": 352,
   "metadata": {},
   "outputs": [
    {
     "data": {
      "text/plain": [
       "Index(['CustomerId', 'Value', 'BatchId', 'ProductId', 'LoanId',\n",
       "       'LoanApplicationId', 'TransactionTime', 'TransactionMonth',\n",
       "       'loanmonthgiven', 'AmountLoan', 'DueDate', 'Suspicious', 'MoreSus',\n",
       "       'ProductCategory_airtime', 'ProductCategory_data_bundles',\n",
       "       'ProductCategory_financial_services', 'ProductCategory_retail',\n",
       "       'ProductCategory_tv', 'ProductCategory_utility_bill'],\n",
       "      dtype='object')"
      ]
     },
     "execution_count": 352,
     "metadata": {},
     "output_type": "execute_result"
    }
   ],
   "source": [
    "test.columns"
   ]
  },
  {
   "cell_type": "code",
   "execution_count": 353,
   "metadata": {},
   "outputs": [],
   "source": [
    "train.drop([\"PaymentMonth\",\"Suspicious\"],axis=1,inplace=True)"
   ]
  },
  {
   "cell_type": "code",
   "execution_count": 354,
   "metadata": {},
   "outputs": [],
   "source": [
    "test.drop(\"Suspicious\",axis=1,inplace=True)"
   ]
  },
  {
   "cell_type": "code",
   "execution_count": 355,
   "metadata": {},
   "outputs": [],
   "source": [
    "X=train.drop(\"IsDefaulted\",axis=1)\n",
    "y=train[\"IsDefaulted\"]"
   ]
  },
  {
   "cell_type": "code",
   "execution_count": 177,
   "metadata": {},
   "outputs": [
    {
     "data": {
      "text/html": [
       "<div>\n",
       "<style scoped>\n",
       "    .dataframe tbody tr th:only-of-type {\n",
       "        vertical-align: middle;\n",
       "    }\n",
       "\n",
       "    .dataframe tbody tr th {\n",
       "        vertical-align: top;\n",
       "    }\n",
       "\n",
       "    .dataframe thead th {\n",
       "        text-align: right;\n",
       "    }\n",
       "</style>\n",
       "<table border=\"1\" class=\"dataframe\">\n",
       "  <thead>\n",
       "    <tr style=\"text-align: right;\">\n",
       "      <th></th>\n",
       "      <th>CustomerId</th>\n",
       "      <th>Value</th>\n",
       "      <th>BatchId</th>\n",
       "      <th>ProductId</th>\n",
       "      <th>AmountLoan</th>\n",
       "      <th>LoanId</th>\n",
       "      <th>DueDate</th>\n",
       "      <th>LoanApplicationId</th>\n",
       "      <th>TransactionTime</th>\n",
       "      <th>TransactionMonth</th>\n",
       "      <th>loanmonthgiven</th>\n",
       "      <th>MoreSus</th>\n",
       "      <th>ProductCategory_airtime</th>\n",
       "      <th>ProductCategory_data_bundles</th>\n",
       "      <th>ProductCategory_financial_services</th>\n",
       "      <th>ProductCategory_retail</th>\n",
       "      <th>ProductCategory_tv</th>\n",
       "      <th>ProductCategory_utility_bill</th>\n",
       "    </tr>\n",
       "  </thead>\n",
       "  <tbody>\n",
       "    <tr>\n",
       "      <td>15</td>\n",
       "      <td>40</td>\n",
       "      <td>5000.0</td>\n",
       "      <td>1</td>\n",
       "      <td>386</td>\n",
       "      <td>5375.0</td>\n",
       "      <td>1</td>\n",
       "      <td>1</td>\n",
       "      <td>1</td>\n",
       "      <td>964</td>\n",
       "      <td>10</td>\n",
       "      <td>10</td>\n",
       "      <td>1</td>\n",
       "      <td>1</td>\n",
       "      <td>0</td>\n",
       "      <td>0</td>\n",
       "      <td>0</td>\n",
       "      <td>0</td>\n",
       "      <td>0</td>\n",
       "    </tr>\n",
       "    <tr>\n",
       "      <td>17</td>\n",
       "      <td>5</td>\n",
       "      <td>500.0</td>\n",
       "      <td>1</td>\n",
       "      <td>386</td>\n",
       "      <td>543.0</td>\n",
       "      <td>1</td>\n",
       "      <td>1</td>\n",
       "      <td>1</td>\n",
       "      <td>792</td>\n",
       "      <td>10</td>\n",
       "      <td>10</td>\n",
       "      <td>1</td>\n",
       "      <td>1</td>\n",
       "      <td>0</td>\n",
       "      <td>0</td>\n",
       "      <td>0</td>\n",
       "      <td>0</td>\n",
       "      <td>0</td>\n",
       "    </tr>\n",
       "    <tr>\n",
       "      <td>18</td>\n",
       "      <td>14</td>\n",
       "      <td>1000.0</td>\n",
       "      <td>1</td>\n",
       "      <td>386</td>\n",
       "      <td>1085.0</td>\n",
       "      <td>1</td>\n",
       "      <td>1</td>\n",
       "      <td>1</td>\n",
       "      <td>920</td>\n",
       "      <td>10</td>\n",
       "      <td>10</td>\n",
       "      <td>1</td>\n",
       "      <td>1</td>\n",
       "      <td>0</td>\n",
       "      <td>0</td>\n",
       "      <td>0</td>\n",
       "      <td>0</td>\n",
       "      <td>0</td>\n",
       "    </tr>\n",
       "  </tbody>\n",
       "</table>\n",
       "</div>"
      ],
      "text/plain": [
       "    CustomerId   Value  BatchId  ProductId  AmountLoan  LoanId  DueDate  \\\n",
       "15          40  5000.0        1        386      5375.0       1        1   \n",
       "17           5   500.0        1        386       543.0       1        1   \n",
       "18          14  1000.0        1        386      1085.0       1        1   \n",
       "\n",
       "    LoanApplicationId  TransactionTime  TransactionMonth  loanmonthgiven  \\\n",
       "15                  1              964                10              10   \n",
       "17                  1              792                10              10   \n",
       "18                  1              920                10              10   \n",
       "\n",
       "    MoreSus  ProductCategory_airtime  ProductCategory_data_bundles  \\\n",
       "15        1                        1                             0   \n",
       "17        1                        1                             0   \n",
       "18        1                        1                             0   \n",
       "\n",
       "    ProductCategory_financial_services  ProductCategory_retail  \\\n",
       "15                                   0                       0   \n",
       "17                                   0                       0   \n",
       "18                                   0                       0   \n",
       "\n",
       "    ProductCategory_tv  ProductCategory_utility_bill  \n",
       "15                   0                             0  \n",
       "17                   0                             0  \n",
       "18                   0                             0  "
      ]
     },
     "execution_count": 177,
     "metadata": {},
     "output_type": "execute_result"
    }
   ],
   "source": [
    "X.head(3)"
   ]
  },
  {
   "cell_type": "code",
   "execution_count": 178,
   "metadata": {},
   "outputs": [],
   "source": [
    "from sklearn.model_selection import train_test_split"
   ]
  },
  {
   "cell_type": "code",
   "execution_count": 179,
   "metadata": {},
   "outputs": [],
   "source": [
    "X_train, X_test, y_train, y_test = train_test_split(X, y, test_size=0.3, random_state=101)"
   ]
  },
  {
   "cell_type": "code",
   "execution_count": 358,
   "metadata": {},
   "outputs": [],
   "source": [
    "test=test[X.columns]"
   ]
  },
  {
   "cell_type": "code",
   "execution_count": 181,
   "metadata": {},
   "outputs": [],
   "source": [
    "from sklearn.metrics import auc"
   ]
  },
  {
   "cell_type": "code",
   "execution_count": 182,
   "metadata": {},
   "outputs": [],
   "source": [
    "from sklearn.ensemble import RandomForestClassifier, GradientBoostingClassifier, BaggingClassifier, AdaBoostClassifier\n",
    "from xgboost import XGBClassifier\n",
    "from catboost import CatBoostClassifier\n",
    "from lightgbm import LGBMClassifier\n",
    "from sklearn.metrics import roc_auc_score, classification_report, confusion_matrix, accuracy_score, f1_score\n",
    "from sklearn.model_selection import StratifiedKFold, KFold, train_test_split"
   ]
  },
  {
   "cell_type": "code",
   "execution_count": 183,
   "metadata": {},
   "outputs": [],
   "source": [
    "clf = AdaBoostClassifier(n_estimators=1000, random_state=101,learning_rate=0.01)"
   ]
  },
  {
   "cell_type": "code",
   "execution_count": 184,
   "metadata": {},
   "outputs": [
    {
     "data": {
      "text/plain": [
       "AdaBoostClassifier(algorithm='SAMME.R', base_estimator=None, learning_rate=0.01,\n",
       "                   n_estimators=1000, random_state=101)"
      ]
     },
     "execution_count": 184,
     "metadata": {},
     "output_type": "execute_result"
    }
   ],
   "source": [
    "clf.fit(X,y)"
   ]
  },
  {
   "cell_type": "code",
   "execution_count": 185,
   "metadata": {},
   "outputs": [],
   "source": [
    "trial=clf.predict_proba(X)[:,1]"
   ]
  },
  {
   "cell_type": "code",
   "execution_count": 186,
   "metadata": {},
   "outputs": [
    {
     "data": {
      "text/plain": [
       "0.9871494104514058"
      ]
     },
     "execution_count": 186,
     "metadata": {},
     "output_type": "execute_result"
    }
   ],
   "source": [
    "roc_auc_score(y,trial)"
   ]
  },
  {
   "cell_type": "code",
   "execution_count": 242,
   "metadata": {},
   "outputs": [],
   "source": [
    "ada=clf.predict_proba(test)[:,1]"
   ]
  },
  {
   "cell_type": "code",
   "execution_count": 243,
   "metadata": {},
   "outputs": [],
   "source": [
    "sub2=pd.DataFrame()\n",
    "sub2[\"TransactionId\"]=transaction\n",
    "sub2[\"IsDefaulted\"]= ada"
   ]
  },
  {
   "cell_type": "code",
   "execution_count": 244,
   "metadata": {},
   "outputs": [],
   "source": [
    "sub2.to_csv(\"default31.csv\",index=False)"
   ]
  },
  {
   "cell_type": "code",
   "execution_count": 91,
   "metadata": {},
   "outputs": [],
   "source": [
    "from sklearn.model_selection import cross_val_score"
   ]
  },
  {
   "cell_type": "code",
   "execution_count": 379,
   "metadata": {},
   "outputs": [
    {
     "name": "stdout",
     "output_type": "stream",
     "text": [
      "0.9909502262443439\n"
     ]
    }
   ],
   "source": [
    "xgb = XGBClassifier(max_depth=9,colsample_bytree=0.6,min_child_weight=10,learning_rate=0.25,n_estimators=1500,objective = \"binary:logistic\")\n",
    "xgb.fit(X_train,y_train)\n",
    "test_pred=xgb.predict_proba(X_test)[:,1]\n",
    "print(roc_auc_score(y_test,test_pred))"
   ]
  },
  {
   "cell_type": "code",
   "execution_count": 380,
   "metadata": {},
   "outputs": [],
   "source": [
    "gboost=xgb.predict_proba(test)[:,1]"
   ]
  },
  {
   "cell_type": "code",
   "execution_count": 381,
   "metadata": {},
   "outputs": [],
   "source": [
    "sub3=pd.DataFrame()\n",
    "sub3[\"TransactionId\"]=transaction\n",
    "sub3[\"IsDefaulted\"]= gboost"
   ]
  },
  {
   "cell_type": "code",
   "execution_count": 382,
   "metadata": {},
   "outputs": [],
   "source": [
    "sub3.to_csv(\"default39.csv\",index=False)"
   ]
  },
  {
   "cell_type": "code",
   "execution_count": null,
   "metadata": {},
   "outputs": [],
   "source": []
  }
 ],
 "metadata": {
  "kernelspec": {
   "display_name": "Python 3",
   "language": "python",
   "name": "python3"
  },
  "language_info": {
   "codemirror_mode": {
    "name": "ipython",
    "version": 3
   },
   "file_extension": ".py",
   "mimetype": "text/x-python",
   "name": "python",
   "nbconvert_exporter": "python",
   "pygments_lexer": "ipython3",
   "version": "3.7.4"
  }
 },
 "nbformat": 4,
 "nbformat_minor": 2
}
